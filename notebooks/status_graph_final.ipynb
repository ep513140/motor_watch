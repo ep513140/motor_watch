{
 "cells": [
  {
   "cell_type": "code",
   "execution_count": 1,
   "metadata": {},
   "outputs": [],
   "source": [
    "from datetime import datetime\n",
    "import numpy as np\n",
    "import pandas as pd\n",
    "import plotly\n",
    "import plotly.graph_objs as go\n",
    "import simplejson as json\n",
    "import ipywidgets as widgets"
   ]
  },
  {
   "cell_type": "code",
   "execution_count": 2,
   "metadata": {},
   "outputs": [
    {
     "data": {
      "text/html": [
       "        <script type=\"text/javascript\">\n",
       "        window.PlotlyConfig = {MathJaxConfig: 'local'};\n",
       "        if (window.MathJax) {MathJax.Hub.Config({SVG: {font: \"STIX-Web\"}});}\n",
       "        if (typeof require !== 'undefined') {\n",
       "        require.undef(\"plotly\");\n",
       "        requirejs.config({\n",
       "            paths: {\n",
       "                'plotly': ['https://cdn.plot.ly/plotly-latest.min']\n",
       "            }\n",
       "        });\n",
       "        require(['plotly'], function(Plotly) {\n",
       "            window._Plotly = Plotly;\n",
       "        });\n",
       "        }\n",
       "        </script>\n",
       "        "
      ]
     },
     "metadata": {},
     "output_type": "display_data"
    }
   ],
   "source": [
    "plotly.offline.init_notebook_mode(connected=True)"
   ]
  },
  {
   "cell_type": "code",
   "execution_count": 15,
   "metadata": {},
   "outputs": [],
   "source": [
    "def make_scatter(startX, startY, successX, successY, stoppedX, stoppedY):\n",
    "        start = go.Scatter(\n",
    "            name = 'Event Initiated',\n",
    "            mode = 'markers',\n",
    "            marker = dict(\n",
    "            color = 'orange',\n",
    "            size = 15,\n",
    "            ),\n",
    "            hoverinfo = 'x+y',\n",
    "            x=startX,\n",
    "            y=startY\n",
    "        )\n",
    "        stop = go.Scatter(\n",
    "               name = 'Event Completed',\n",
    "               mode = 'markers',\n",
    "               marker = dict(\n",
    "               color = 'black',\n",
    "               size = 8\n",
    "               ),\n",
    "               hoverinfo = 'none',\n",
    "               x=successX,\n",
    "               y=successY\n",
    "           )\n",
    "        stopped = go.Scatter(\n",
    "               name = 'Event Stopped',\n",
    "                mode = 'markers',\n",
    "                marker = dict(\n",
    "                color = 'red',\n",
    "                size = 15\n",
    "                ),\n",
    "                hoverinfo = 'y',\n",
    "                x=stoppedX,\n",
    "                y=stoppedY\n",
    "            )\n",
    "        if stoppedX!=None:\n",
    "            data = [start, stop, stopped]\n",
    "        else:\n",
    "            data = [start, stop]\n",
    "        return data\n",
    "def plot_motor(motor_name, time1, time2):\n",
    "        with open('../data/transfocator.txt', 'r') as handle:\n",
    "            df = pd.read_json(handle)\n",
    "            timeList = []\n",
    "            positionList = []\n",
    "            stoppedX = []\n",
    "            stoppedY=[]        \n",
    "            startX = []\n",
    "            startY = []\n",
    "            successX = []\n",
    "            successY = []\n",
    "            stopEvent = None\n",
    "            for i in range(0, df.shape[0]):\n",
    "                timeList.append(datetime.fromtimestamp(df['start_ts'][i]))\n",
    "                timeList.append(datetime.fromtimestamp(df['finish_ts'][i]))\n",
    "                positionList.append(df['start_pos'][i])\n",
    "                positionList.append(df['finish_pos'][i])\n",
    "                startX.append(datetime.fromtimestamp(df['start_ts'][i]))\n",
    "                startY.append((df['start_pos'][i]))\n",
    "                if df['success'][i]==False:\n",
    "                    m = (df['finish_pos'][i]-df['start_pos'][i])/(df['finish_ts'][i]-df['start_ts'][i])\n",
    "                    targetTime = df['target'][i]/m-df['finish_pos'][i]/m+df['finish_ts'][i]\n",
    "                    stoppedX.append(datetime.fromtimestamp(targetTime))\n",
    "                    stoppedY.append(df['target'][i])\n",
    "                    stopEvent = go.Scatter(\n",
    "                        x=(datetime.fromtimestamp(df['finish_ts'][i]), datetime.fromtimestamp(targetTime)),\n",
    "                        y=(df['finish_pos'][i], df['target'][i]),\n",
    "                        showlegend = False,\n",
    "                        hoverinfo = 'none',\n",
    "                        text = 'Hypothetical Complete Event',\n",
    "                        line = dict(\n",
    "                        color='red'\n",
    "                        )\n",
    "                    )\n",
    "                else:\n",
    "                    successX.append(datetime.fromtimestamp(df['finish_ts'][i]))\n",
    "                    successY.append(df['finish_pos'][i])\n",
    "            event = go.Scatter(\n",
    "                              x=timeList,\n",
    "                              y=positionList,\n",
    "                              hoverinfo = 'none',\n",
    "                              showlegend = False\n",
    "            )\n",
    "            if stoppedX!=[]:\n",
    "                return [event]+[stopEvent]+make_scatter(startX, startY, successX, successY, stoppedX, stoppedY)\n",
    "            else:\n",
    "                return [event]+make_scatter(startX, startY, successX, successY, stoppedX, stoppedY)"
   ]
  },
  {
   "cell_type": "code",
   "execution_count": 16,
   "metadata": {},
   "outputs": [
    {
     "data": {
      "application/vnd.jupyter.widget-view+json": {
       "model_id": "2e7154ded9204872a0e3dbaa1e825c61",
       "version_major": 2,
       "version_minor": 0
      },
      "text/plain": [
       "interactive(children=(SelectMultiple(description='Instrument(s)', index=(3,), options=('AMO', 'CXI', 'MEC', 'M…"
      ]
     },
     "metadata": {},
     "output_type": "display_data"
    }
   ],
   "source": [
    "layout = go.Layout(showlegend = True,\n",
    "    title=go.layout.Title(\n",
    "        text='Motor Status',\n",
    "        xref='paper',\n",
    "        x=0\n",
    "    ),\n",
    "    xaxis=go.layout.XAxis(\n",
    "        title=go.layout.xaxis.Title(\n",
    "            text='Time of Event',\n",
    "            font=dict(\n",
    "                family='Courier New, monospace',\n",
    "                size=18,\n",
    "                color='#7f7f7f'\n",
    "            )\n",
    "        )\n",
    "    ),\n",
    "    yaxis=go.layout.YAxis(\n",
    "        title=go.layout.yaxis.Title(\n",
    "            text='Motor Position',\n",
    "            font=dict(\n",
    "                family='Courier New, monospace',\n",
    "                size=18,\n",
    "                color='#7f7f7f'\n",
    "            )\n",
    "        )\n",
    "    )   \n",
    "                    )\n",
    "motorList = ('AMO', 'CXI', 'MEC', 'MFX', 'SXR', 'XCS', 'XPP')\n",
    "motors = widgets.SelectMultiple(options = motorList, value = ('MFX',), description='Instrument(s)', disabled=False)\n",
    "start_time = widgets.DatePicker(description='Start Date', disabled=False)\n",
    "stop_time = widgets.DatePicker(description='End Date', disabled=False)\n",
    "def add_motors(motors, time1, time2):\n",
    "    data=[]\n",
    "    for m in motors:\n",
    "        data = data+plot_motor(m, time1, time2)\n",
    "    fig = go.Figure(data = data, layout = layout)\n",
    "    plotly.offline.iplot(fig)\n",
    "widgets.interactive(add_motors, motors= motors, time1=start_time, time2=stop_time)"
   ]
  }
 ],
 "metadata": {
  "kernelspec": {
   "display_name": "Python 3",
   "language": "python",
   "name": "python3"
  },
  "language_info": {
   "codemirror_mode": {
    "name": "ipython",
    "version": 3
   },
   "file_extension": ".py",
   "mimetype": "text/x-python",
   "name": "python",
   "nbconvert_exporter": "python",
   "pygments_lexer": "ipython3",
   "version": "3.7.3"
  }
 },
 "nbformat": 4,
 "nbformat_minor": 2
}
